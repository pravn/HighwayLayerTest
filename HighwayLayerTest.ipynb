{
 "cells": [
  {
   "cell_type": "code",
   "execution_count": 1,
   "metadata": {
    "collapsed": true
   },
   "outputs": [],
   "source": [
    "from __future__ import print_function\n",
    "import argparse\n",
    "import torch.utils.data\n",
    "import torch.nn as nn\n",
    "import torch.optim as optim\n",
    "from torch.autograd import Variable\n",
    "from torchvision import datasets, transforms\n",
    "import torch.nn.functional as F\n",
    "    \n",
    "import os\n",
    "import matplotlib.pyplot as plt\n",
    "import matplotlib.gridspec as gridspec\n",
    "import scipy.io\n",
    "import string\n",
    "import numpy as np\n",
    "import torch\n",
    "import torch.utils.data"
   ]
  },
  {
   "cell_type": "code",
   "execution_count": 2,
   "metadata": {
    "collapsed": true
   },
   "outputs": [],
   "source": [
    "class Highway(nn.Module):\n",
    "    def __init__(self, in_size, out_size):\n",
    "        super(Highway, self).__init__()\n",
    "        self.H = nn.Linear(in_size, out_size)\n",
    "        self.H.bias.data.zero_()\n",
    "        self.T = nn.Linear(in_size, out_size)\n",
    "        self.T.bias.data.fill_(-1)\n",
    "        self.relu = nn.ReLU()\n",
    "        self.sigmoid = nn.Sigmoid()\n",
    "\n",
    "    def forward(self, inputs):\n",
    "        H = self.relu(self.H(inputs))\n",
    "        T = self.sigmoid(self.T(inputs))\n",
    "        #return H * T + inputs * (1.0 - T)\n",
    "        return H + inputs"
   ]
  },
  {
   "cell_type": "code",
   "execution_count": 3,
   "metadata": {
    "collapsed": true
   },
   "outputs": [],
   "source": [
    "x = Variable(torch.ones(100,44,80))"
   ]
  },
  {
   "cell_type": "code",
   "execution_count": 12,
   "metadata": {
    "collapsed": true
   },
   "outputs": [],
   "source": [
    "highways = nn.ModuleList([Highway(80,80) for _ in range(4)])"
   ]
  },
  {
   "cell_type": "code",
   "execution_count": 17,
   "metadata": {},
   "outputs": [
    {
     "name": "stdout",
     "output_type": "stream",
     "text": [
      "done ...\n",
      "done ...\n",
      "done ...\n",
      "done ...\n"
     ]
    }
   ],
   "source": [
    "for highway in highways:\n",
    "    x = highway(x)\n",
    "    print('done ...')"
   ]
  },
  {
   "cell_type": "code",
   "execution_count": 16,
   "metadata": {},
   "outputs": [
    {
     "data": {
      "text/plain": [
       "Variable containing:\n",
       "( 0 ,.,.) = \n",
       "  2.3168  3.4333  2.8151  ...   1.0000  2.5680  1.1129\n",
       "  2.3168  3.4333  2.8151  ...   1.0000  2.5680  1.1129\n",
       "  2.3168  3.4333  2.8151  ...   1.0000  2.5680  1.1129\n",
       "           ...             ⋱             ...          \n",
       "  2.3168  3.4333  2.8151  ...   1.0000  2.5680  1.1129\n",
       "  2.3168  3.4333  2.8151  ...   1.0000  2.5680  1.1129\n",
       "  2.3168  3.4333  2.8151  ...   1.0000  2.5680  1.1129\n",
       "\n",
       "( 1 ,.,.) = \n",
       "  2.3168  3.4333  2.8151  ...   1.0000  2.5680  1.1129\n",
       "  2.3168  3.4333  2.8151  ...   1.0000  2.5680  1.1129\n",
       "  2.3168  3.4333  2.8151  ...   1.0000  2.5680  1.1129\n",
       "           ...             ⋱             ...          \n",
       "  2.3168  3.4333  2.8151  ...   1.0000  2.5680  1.1129\n",
       "  2.3168  3.4333  2.8151  ...   1.0000  2.5680  1.1129\n",
       "  2.3168  3.4333  2.8151  ...   1.0000  2.5680  1.1129\n",
       "\n",
       "( 2 ,.,.) = \n",
       "  2.3168  3.4333  2.8151  ...   1.0000  2.5680  1.1129\n",
       "  2.3168  3.4333  2.8151  ...   1.0000  2.5680  1.1129\n",
       "  2.3168  3.4333  2.8151  ...   1.0000  2.5680  1.1129\n",
       "           ...             ⋱             ...          \n",
       "  2.3168  3.4333  2.8151  ...   1.0000  2.5680  1.1129\n",
       "  2.3168  3.4333  2.8151  ...   1.0000  2.5680  1.1129\n",
       "  2.3168  3.4333  2.8151  ...   1.0000  2.5680  1.1129\n",
       "... \n",
       "\n",
       "(97 ,.,.) = \n",
       "  2.3168  3.4333  2.8151  ...   1.0000  2.5680  1.1129\n",
       "  2.3168  3.4333  2.8151  ...   1.0000  2.5680  1.1129\n",
       "  2.3168  3.4333  2.8151  ...   1.0000  2.5680  1.1129\n",
       "           ...             ⋱             ...          \n",
       "  2.3168  3.4333  2.8151  ...   1.0000  2.5680  1.1129\n",
       "  2.3168  3.4333  2.8151  ...   1.0000  2.5680  1.1129\n",
       "  2.3168  3.4333  2.8151  ...   1.0000  2.5680  1.1129\n",
       "\n",
       "(98 ,.,.) = \n",
       "  2.3168  3.4333  2.8151  ...   1.0000  2.5680  1.1129\n",
       "  2.3168  3.4333  2.8151  ...   1.0000  2.5680  1.1129\n",
       "  2.3168  3.4333  2.8151  ...   1.0000  2.5680  1.1129\n",
       "           ...             ⋱             ...          \n",
       "  2.3168  3.4333  2.8151  ...   1.0000  2.5680  1.1129\n",
       "  2.3168  3.4333  2.8151  ...   1.0000  2.5680  1.1129\n",
       "  2.3168  3.4333  2.8151  ...   1.0000  2.5680  1.1129\n",
       "\n",
       "(99 ,.,.) = \n",
       "  2.3168  3.4333  2.8151  ...   1.0000  2.5680  1.1129\n",
       "  2.3168  3.4333  2.8151  ...   1.0000  2.5680  1.1129\n",
       "  2.3168  3.4333  2.8151  ...   1.0000  2.5680  1.1129\n",
       "           ...             ⋱             ...          \n",
       "  2.3168  3.4333  2.8151  ...   1.0000  2.5680  1.1129\n",
       "  2.3168  3.4333  2.8151  ...   1.0000  2.5680  1.1129\n",
       "  2.3168  3.4333  2.8151  ...   1.0000  2.5680  1.1129\n",
       "[torch.FloatTensor of size 100x44x80]"
      ]
     },
     "execution_count": 16,
     "metadata": {},
     "output_type": "execute_result"
    }
   ],
   "source": [
    "x"
   ]
  },
  {
   "cell_type": "code",
   "execution_count": null,
   "metadata": {
    "collapsed": true
   },
   "outputs": [],
   "source": []
  }
 ],
 "metadata": {
  "kernelspec": {
   "display_name": "Python 3",
   "language": "python",
   "name": "python3"
  },
  "language_info": {
   "codemirror_mode": {
    "name": "ipython",
    "version": 3
   },
   "file_extension": ".py",
   "mimetype": "text/x-python",
   "name": "python",
   "nbconvert_exporter": "python",
   "pygments_lexer": "ipython3",
   "version": "3.6.1"
  }
 },
 "nbformat": 4,
 "nbformat_minor": 2
}
